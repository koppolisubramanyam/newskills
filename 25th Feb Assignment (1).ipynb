{
 "cells": [
  {
   "cell_type": "markdown",
   "id": "19018251-c32b-47f5-ac81-12144d8e10ac",
   "metadata": {},
   "source": [
    "# Assignment"
   ]
  },
  {
   "cell_type": "markdown",
   "id": "633e5e72-a15d-4311-88dd-cae79450314a",
   "metadata": {},
   "source": [
    "### Consider following code to answer further questions:\n",
    "     import pandas as pd\n",
    "     course_name = [‘Data Science’, ‘Machine Learning’, ‘Big Data’, ‘Data Engineer’]\n",
    "     duration = [2,3,6,4]\n",
    "     df = pd.DataFrame(data = {‘course_name’ : course_name, ‘duration’ : duration})"
   ]
  },
  {
   "cell_type": "markdown",
   "id": "1b3c7350-6500-44d0-9395-5f9673032f23",
   "metadata": {},
   "source": [
    "## 1.Write a code to print the data present in the second row of the dataframe, df."
   ]
  },
  {
   "cell_type": "code",
   "execution_count": 4,
   "id": "6e9f5545-0ebb-4eff-8c88-894541f5f20f",
   "metadata": {},
   "outputs": [],
   "source": [
    "import pandas as pd\n",
    "course_name = ['Data Science', 'Machine Learning', 'Big Data', 'Data Engineer']\n",
    "duration = [2,3,6,4]\n",
    "df = pd.DataFrame(data = {'course_name' : course_name, 'duration' : duration})"
   ]
  },
  {
   "cell_type": "code",
   "execution_count": 6,
   "id": "25b396ec-5ef0-4fe2-9705-b22247c91d40",
   "metadata": {},
   "outputs": [
    {
     "name": "stdout",
     "output_type": "stream",
     "text": [
      "course_name    Machine Learning\n",
      "duration                      3\n",
      "Name: 1, dtype: object\n"
     ]
    }
   ],
   "source": [
    "print(df.iloc[1,:])"
   ]
  },
  {
   "cell_type": "markdown",
   "id": "a594e235-5675-498e-a43e-4cd568e98829",
   "metadata": {},
   "source": [
    "## 2.What is the difference between the functions loc and iloc in pandas.DataFrame?"
   ]
  },
  {
   "cell_type": "markdown",
   "id": "4c743bc4-4f5c-4314-98fe-5a7ae7116ed2",
   "metadata": {},
   "source": [
    "###\n",
    "loc and iloc are two methods provided by the pandas library in Python to access and manipulate data in a pandas DataFrame.\n",
    "\n",
    "The loc method is used to access data in a DataFrame based on the labels of the rows and columns. It takes two parameters, the row label(s) and column label(s), and returns the data at the specified location. The row and column labels can be either a single label or a list of labels. For example, df.loc[0, 'column_name'] returns the data at the first row and the specified column, while df.loc[[0, 1, 2], ['column_1', 'column_2']] returns the data in the specified rows and columns.\n",
    "\n",
    "On the other hand, the iloc method is used to access data in a DataFrame based on the integer position of the rows and columns. It takes two parameters, the row position(s) and column position(s), and returns the data at the specified location. The row and column positions can be either a single position or a list of positions. For example, df.iloc[0, 1] returns the data at the first row and the second column, while df.iloc[[0, 1, 2], [0, 1]] returns the data in the specified rows and columns based on their integer position.\n",
    "\n",
    "In summary, the main difference between the loc and iloc methods is that loc uses labels to access data, while iloc uses integer positions. Therefore, loc is used to access data by label, and iloc is used to access data by integer position."
   ]
  },
  {
   "cell_type": "markdown",
   "id": "3db3d774-d7f0-4272-88ba-0a0cfdcd8418",
   "metadata": {},
   "source": [
    "### 3.Reindex the given dataframe using a variable, reindex = [3,0,1,2] and store it in the variable, new_df then find the output for both new_df.loc[2] and new_df.iloc[2].\n",
    "\n",
    "    Did you observe any difference in both the outputs? If so then explain it.Consider the below code to answer further questions:\n",
    "        import pandas as pd\n",
    "        import numpy as np\n",
    "        columns = ['column_1', 'column_2', 'column_3', 'column_4', 'column_5', 'column_6']\n",
    "        indices = [1,2,3,4,5,6]\n",
    "        #Creating a dataframe:\n",
    "        df1 = pd.DataFrame(np.random.rand(6,6), columns = columns, index = indices)"
   ]
  },
  {
   "cell_type": "code",
   "execution_count": 4,
   "id": "345207b4-8052-45b9-a143-8bbb4c0f0bd4",
   "metadata": {},
   "outputs": [],
   "source": [
    "import pandas as pd\n",
    "import numpy as np\n",
    "columns = ['column_1', 'column_2', 'column_3', 'column_4', 'column_5', 'column_6']\n",
    "indices = [1,2,3,4,5,6]\n",
    "#Creating a dataframe:\n",
    "df1 = pd.DataFrame(np.random.rand(6,6), columns = columns, index = indices)"
   ]
  },
  {
   "cell_type": "markdown",
   "id": "430d40dd-8210-496b-a3c7-f37569f45ef3",
   "metadata": {},
   "source": [
    "###\n",
    "To reindex the given DataFrame based on the list [3, 0, 1, 2], you can use the reindex method of the DataFrame and pass the list as an argument. The code to reindex the DataFrame and store it in a new variable new_df would be:"
   ]
  },
  {
   "cell_type": "code",
   "execution_count": 7,
   "id": "54efe6d7-9a68-42a7-84a7-c2dbc04a573d",
   "metadata": {},
   "outputs": [],
   "source": [
    "new_df = df1.reindex([3, 0, 1, 2])"
   ]
  },
  {
   "cell_type": "markdown",
   "id": "3de5e07c-41ed-4813-9191-e38c7dee908e",
   "metadata": {},
   "source": [
    "###\n",
    "To find the output for new_df.loc[2], you can use the loc method of the DataFrame, which uses the labels of the rows and columns to access the data. The code to find the output for this would be:"
   ]
  },
  {
   "cell_type": "code",
   "execution_count": 8,
   "id": "1dde6e2f-0e77-4055-91a2-e08b6b6e865d",
   "metadata": {},
   "outputs": [
    {
     "name": "stdout",
     "output_type": "stream",
     "text": [
      "column_1    0.120033\n",
      "column_2    0.295954\n",
      "column_3    0.164860\n",
      "column_4    0.893873\n",
      "column_5    0.137389\n",
      "column_6    0.665487\n",
      "Name: 2, dtype: float64\n"
     ]
    }
   ],
   "source": [
    "print(new_df.loc[2])"
   ]
  },
  {
   "cell_type": "markdown",
   "id": "6d1e6f8f-5b9c-419d-ae06-663d0a11bc63",
   "metadata": {},
   "source": [
    "###\n",
    "To find the output for new_df.iloc[2], you can use the iloc method of the DataFrame, which uses the integer position of the rows and columns to access the data. The code to find the output for this would be:"
   ]
  },
  {
   "cell_type": "code",
   "execution_count": 9,
   "id": "c71ef625-ff6b-4bb2-991b-4c29e9ea095c",
   "metadata": {},
   "outputs": [
    {
     "name": "stdout",
     "output_type": "stream",
     "text": [
      "column_1    0.499846\n",
      "column_2    0.031274\n",
      "column_3    0.055645\n",
      "column_4    0.622655\n",
      "column_5    0.388486\n",
      "column_6    0.092431\n",
      "Name: 1, dtype: float64\n"
     ]
    }
   ],
   "source": [
    "print(new_df.iloc[2])"
   ]
  },
  {
   "cell_type": "markdown",
   "id": "742a286e-e4b6-4592-b73c-7aa7c1499033",
   "metadata": {},
   "source": [
    "## 4.Write a code to find the following statistical measurements for the above dataframe df1:\n",
    "1. mean of each and every column present in the dataframe.\n",
    "2. standard deviation of column, ‘column_2’"
   ]
  },
  {
   "cell_type": "markdown",
   "id": "2cde1687-5849-4a1d-81f0-40d66d2a8a7e",
   "metadata": {},
   "source": [
    "###\n",
    "To find the mean of each column in the DataFrame df1, you can use the mean method of the DataFrame. The code to find the mean of each column would be:"
   ]
  },
  {
   "cell_type": "code",
   "execution_count": 10,
   "id": "5138ca1f-e38a-4eba-b6ab-3f70686d0fca",
   "metadata": {},
   "outputs": [
    {
     "name": "stdout",
     "output_type": "stream",
     "text": [
      "column_1    0.409771\n",
      "column_2    0.400872\n",
      "column_3    0.524118\n",
      "column_4    0.584002\n",
      "column_5    0.519066\n",
      "column_6    0.442374\n",
      "dtype: float64\n"
     ]
    }
   ],
   "source": [
    "print(df1.mean())"
   ]
  },
  {
   "cell_type": "markdown",
   "id": "537736e1-9160-4223-96bd-5aafb739406f",
   "metadata": {},
   "source": [
    "###\n",
    "To find the standard deviation of the column 'column_2', you can use the std method of the DataFrame and pass the column name as an argument. The code to find the standard deviation of the column 'column_2' would be:"
   ]
  },
  {
   "cell_type": "code",
   "execution_count": 11,
   "id": "6bbbacb9-323e-4726-95b1-268f356f6187",
   "metadata": {},
   "outputs": [
    {
     "name": "stdout",
     "output_type": "stream",
     "text": [
      "0.3913459496566047\n"
     ]
    }
   ],
   "source": [
    "print(df1['column_2'].std())"
   ]
  },
  {
   "cell_type": "markdown",
   "id": "733d8957-f68b-4083-8b9e-c6215dff8266",
   "metadata": {},
   "source": [
    "## 5.Q5. Replace the data present in the second row of column, ‘column_2’ by a string variable then find the mean of column, column_2.\n",
    "\n",
    "     If you are getting errors in executing it then explain why.\n",
    "    [Hint: To replace the data use df1.loc[] and equate this to string data of your choice.]"
   ]
  },
  {
   "cell_type": "markdown",
   "id": "42f9975b-eaa5-46fc-bc1c-e13fc21c6d7f",
   "metadata": {},
   "source": [
    "###\n",
    "To replace the data in the second row of the column 'column_2' with a string variable, you can use the loc method of the DataFrame to access the cell and assign the new value to it. The code to replace the data in the second row of 'column_2' with a string variable would be:"
   ]
  },
  {
   "cell_type": "code",
   "execution_count": 14,
   "id": "48334ebf-7d63-4381-bb3e-69d124a5d760",
   "metadata": {},
   "outputs": [
    {
     "name": "stdout",
     "output_type": "stream",
     "text": [
      "   column_1         column_2  column_3  column_4  column_5  column_6\n",
      "1  0.499846         0.031274  0.055645  0.622655  0.388486  0.092431\n",
      "2  0.120033  new string data  0.164860  0.893873  0.137389  0.665487\n",
      "3  0.746740         0.006703  0.507551  0.694203  0.670271  0.262562\n",
      "4  0.702299         0.815521  0.902965  0.365791  0.911000  0.844768\n",
      "5  0.197948         0.321482  0.989799  0.055319  0.991476  0.125183\n",
      "6  0.191762         0.934297  0.523890  0.872170  0.015776  0.663816\n"
     ]
    }
   ],
   "source": [
    "df1.loc[2, 'column_2'] = 'new string data'\n",
    "print(df1)"
   ]
  },
  {
   "cell_type": "markdown",
   "id": "296fbd68-e0ce-4fe6-8441-31f5b669333c",
   "metadata": {},
   "source": [
    "###\n",
    "This will replace the data in the second row of the column 'column_2' with the string value 'new string data'.\n",
    "\n",
    "However, you cannot find the mean of the column 'column_2' after replacing the data with a string variable. This is because the mean method only works with numerical data, and a string value cannot be converted to a numerical value. Therefore, trying to find the mean of the column after replacing the data with a string variable will result in a TypeError.\n",
    "\n",
    "If you want to find the mean of the column 'column_2' after replacing the data with a string variable, you need to convert the string data to a numerical data type. You can do this by replacing the string value with a numerical value, such as an integer or a float. Once you have replaced the string value with a numerical value, you can find the mean of the column using the mean method."
   ]
  },
  {
   "cell_type": "markdown",
   "id": "9275ef9a-9dd3-4b6e-889d-2028ea0c6d14",
   "metadata": {},
   "source": [
    "## 6.What do you understand about the windows function in pandas and list the types of windows functions?"
   ]
  },
  {
   "cell_type": "markdown",
   "id": "5e9db7f5-095d-48d6-83e3-eb82561229ce",
   "metadata": {},
   "source": [
    "###\n",
    "In pandas, the window function is a way of performing calculations on a subset of rows of a DataFrame. It allows you to compute a function over a sliding window of rows, where the size and shape of the window can be specified.\n",
    "\n",
    "There are several types of window functions in pandas, including:\n",
    "\n",
    "1. Rolling: The rolling function allows you to compute rolling statistics on a DataFrame or a Series. It takes a window size as an argument and calculates the statistic for each window.\n",
    "\n",
    "2. Expanding: The expanding function allows you to compute expanding statistics on a DataFrame or a Series. It calculates the statistic for all previous rows, from the start of the DataFrame or Series up to the current row.\n",
    "\n",
    "3. EWM (Exponentially Weighted Moving): The EWM function allows you to compute exponentially weighted moving statistics on a DataFrame or a Series. It calculates the statistic using an exponentially weighted moving window, where more weight is given to recent values.\n",
    "\n",
    "4. Groupby: The groupby function allows you to compute statistics on a DataFrame or a Series for each group defined by one or more columns. You can then apply a window function to the grouped data.\n",
    "\n",
    "5. Resample: The resample function allows you to resample a time series DataFrame or a Series to a specified frequency. You can then apply a window function to the resampled data.\n",
    "\n",
    "These window functions can be applied to a variety of statistical operations, including sum, mean, standard deviation, min, max, and many others. They are useful for analyzing time series data or any data where the order of the rows is significant."
   ]
  },
  {
   "cell_type": "markdown",
   "id": "38108af1-6af6-435d-b226-8fff357fb5f8",
   "metadata": {},
   "source": [
    "## 7.Write a code to print only the current month and year at the time of answering this question.\n",
    "[Hint: Use pandas.datetime function]"
   ]
  },
  {
   "cell_type": "code",
   "execution_count": 17,
   "id": "1a7f0e6b-92ca-4aa8-b933-31cc19736929",
   "metadata": {},
   "outputs": [
    {
     "name": "stdout",
     "output_type": "stream",
     "text": [
      "Current month: 2\n",
      "Current year: 2023\n"
     ]
    },
    {
     "name": "stderr",
     "output_type": "stream",
     "text": [
      "/tmp/ipykernel_784/2345928268.py:3: FutureWarning: The pandas.datetime class is deprecated and will be removed from pandas in a future version. Import from datetime module instead.\n",
      "  now = pd.datetime.now()\n"
     ]
    }
   ],
   "source": [
    "import pandas as pd\n",
    "\n",
    "now = pd.datetime.now()\n",
    "\n",
    "current_month = now.month\n",
    "current_year = now.year\n",
    "\n",
    "print(f\"Current month: {current_month}\")\n",
    "print(f\"Current year: {current_year}\")"
   ]
  },
  {
   "cell_type": "markdown",
   "id": "ef8c1513-2b65-4c80-a788-81503007f43f",
   "metadata": {},
   "source": [
    "### we can use the timestamp function to perform above operation of printing the current month and year."
   ]
  },
  {
   "cell_type": "code",
   "execution_count": 19,
   "id": "c91c9ca1-6874-4052-934c-06bc44cef98d",
   "metadata": {},
   "outputs": [
    {
     "name": "stdout",
     "output_type": "stream",
     "text": [
      "Current month: 2\n",
      "Current year: 2023\n"
     ]
    }
   ],
   "source": [
    "import pandas as pd\n",
    "\n",
    "now = pd.Timestamp.now()\n",
    "\n",
    "current_month = now.month\n",
    "current_year = now.year\n",
    "\n",
    "print(f\"Current month: {current_month}\")\n",
    "print(f\"Current year: {current_year}\")"
   ]
  },
  {
   "cell_type": "markdown",
   "id": "52821ff5-2604-4941-829b-354bca9f3c45",
   "metadata": {},
   "source": [
    "### 8.Write a Python program that takes in two dates as input (in the format YYYY-MM-DD) and calculates the difference between them in days, hours, and minutes using Pandas time delta. The program should prompt the user to enter the dates and display the result."
   ]
  },
  {
   "cell_type": "code",
   "execution_count": 1,
   "id": "81bd7ea1-eb41-448b-bd9e-0697b01a6e44",
   "metadata": {},
   "outputs": [
    {
     "name": "stdin",
     "output_type": "stream",
     "text": [
      "Enter the first date (YYYY-MM-DD):  2020-01-01\n",
      "Enter the second date (YYYY-MM-DD):  2022-01-01\n"
     ]
    },
    {
     "name": "stdout",
     "output_type": "stream",
     "text": [
      "The time difference between 2020-01-01 00:00:00 and 2022-01-01 00:00:00 is:\n",
      "731 days, 0 hours, and 0 minutes\n"
     ]
    }
   ],
   "source": [
    "import pandas as pd\n",
    "\n",
    "date1 = input(\"Enter the first date (YYYY-MM-DD): \")\n",
    "date2 = input(\"Enter the second date (YYYY-MM-DD): \")\n",
    "\n",
    "date1 = pd.Timestamp(date1)\n",
    "date2 = pd.Timestamp(date2)\n",
    "\n",
    "time_diff = date2 - date1\n",
    "\n",
    "days_diff = time_diff.days\n",
    "hours_diff = time_diff.seconds // 3600\n",
    "minutes_diff = (time_diff.seconds % 3600) // 60\n",
    "\n",
    "print(f\"The time difference between {date1} and {date2} is:\")\n",
    "print(f\"{days_diff} days, {hours_diff} hours, and {minutes_diff} minutes\")"
   ]
  },
  {
   "cell_type": "markdown",
   "id": "4a937e15-3f52-4f4a-a154-42f0c57bf875",
   "metadata": {},
   "source": [
    "### 9.Write a Python program that reads a CSV file containing categorical data and converts a specified column to a categorical data type. The program should prompt the user to enter the file path, column name, and category order, and then display the sorted data."
   ]
  },
  {
   "cell_type": "code",
   "execution_count": null,
   "id": "bfe37d5f-f498-456f-be3f-9416f4451391",
   "metadata": {},
   "outputs": [],
   "source": [
    "import pandas as pd\n",
    "\n",
    "file_path = input(\"Enter the file path: \")\n",
    "\n",
    "df = pd.read_csv(file_path)\n",
    "\n",
    "column_name = input(\"Enter the column name: \")\n",
    "\n",
    "df[column_name] = pd.Categorical(df[column_name], categories=category_order)\n",
    "\n",
    "sorted_df = df.sort_values(by=[column_name])\n",
    "print(sorted_df)"
   ]
  },
  {
   "cell_type": "markdown",
   "id": "896a9b18-b364-45c6-affa-3f7f33057c5d",
   "metadata": {},
   "source": [
    "### 10. Write a Python program that reads a CSV file containing sales data for different products and visualizes the data using a stacked bar chart to show the sales of each product category over time. The program should prompt the user to enter the file path and display the chart."
   ]
  },
  {
   "cell_type": "code",
   "execution_count": null,
   "id": "e96aa252-1922-4093-adb6-0bcf40803a8f",
   "metadata": {},
   "outputs": [],
   "source": [
    "import pandas as pd\n",
    "import matplotlib.pyplot as plt\n",
    "\n",
    "file_path = input(\"Enter the file path: \")\n",
    "\n",
    "data = pd.read_csv(file_path)\n",
    "\n",
    "grouped_data = data.groupby(['Product Category', 'Date']).sum()\n",
    "\n",
    "stacked_data = grouped_data.unstack(level=0)['Sales']\n",
    "\n",
    "stacked_data.plot(kind='bar', stacked=True)\n",
    "\n",
    "plt.title('Sales by Product Category')\n",
    "plt.xlabel('Date')\n",
    "plt.ylabel"
   ]
  },
  {
   "cell_type": "markdown",
   "id": "b9b4d23b-586e-466a-babb-e50112a41b92",
   "metadata": {},
   "source": [
    "### 11. You are given a CSV file containing student data that includes the student ID and their test score. Write a Python program that reads the CSV file, calculates the mean, median, and mode of the test scores, and displays the results in a table.\n",
    "\n",
    "     The program should do the following:\n",
    "     I Prompt the user to enter the file path of the CSV file containing the student data.\n",
    "     I Read the CSV file into a Pandas DataFrame.\n",
    "     I Calculate the mean, median, and mode of the test scores using Pandas tools.\n",
    "     I Display the mean, median, and mode in a table.\n",
    "     Assume the CSV file contains the following columns.\n",
    "     I Student ID: The ID of the student.\n",
    "     I Test Score: The score of the student's test. \n",
    "     Example usage of the program:\n",
    "     Enter the file path of the CSV file containing the student data: student_data.csv\n",
    "     +-----------+--------+\n",
    "     | Statistic | Value |\n",
    "     +-----------+--------+\n",
    "     | Mean | 79.6 |\n",
    "     | Median | 82 |\n",
    "     | Mode | 85, 90 |\n",
    "     +-----------+--------+\n",
    "    Assume that the CSV file student_data.csv contains the following data:\n",
    "    Student ID,Test Score\n",
    "    1,85\n",
    "    2,90\n",
    "    3,80\n",
    "    4,75\n",
    "    5,85\n",
    "    6,82\n",
    "    7,78\n",
    "    8,85\n",
    "    9,90\n",
    "    10,85\n",
    "    The program should calculate the mean, median, and mode of the test scores and display the results in a table."
   ]
  },
  {
   "cell_type": "code",
   "execution_count": null,
   "id": "8d52eb2c-2ef6-48bd-be8a-1e870b795401",
   "metadata": {},
   "outputs": [],
   "source": [
    "import pandas as pd\n",
    "\n",
    "file_path = input(\"Enter the file path of the CSV file containing the student data: \")\n",
    "\n",
    "df = pd.read_csv(file_path)\n",
    "\n",
    "mean_score = df[\"Test Score\"].mean()\n",
    "median_score = df[\"Test Score\"].median()\n",
    "mode_score = df[\"Test Score\"].mode()[0]\n",
    "\n",
    "data = {\"Metric\": [\"Mean\", \"Median\", \"Mode\"], \"Score\": [mean_score, median_score, mode_score]}\n",
    "table = pd.DataFrame(data)\n",
    "print(table)"
   ]
  },
  {
   "cell_type": "code",
   "execution_count": null,
   "id": "5e5d38e9-4c2f-4f34-84d3-47c772670254",
   "metadata": {},
   "outputs": [],
   "source": []
  }
 ],
 "metadata": {
  "kernelspec": {
   "display_name": "Python 3 (ipykernel)",
   "language": "python",
   "name": "python3"
  },
  "language_info": {
   "codemirror_mode": {
    "name": "ipython",
    "version": 3
   },
   "file_extension": ".py",
   "mimetype": "text/x-python",
   "name": "python",
   "nbconvert_exporter": "python",
   "pygments_lexer": "ipython3",
   "version": "3.10.8"
  }
 },
 "nbformat": 4,
 "nbformat_minor": 5
}
