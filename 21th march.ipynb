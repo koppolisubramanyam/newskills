{
 "cells": [
  {
   "cell_type": "markdown",
   "id": "040a3b2c-f106-4668-b18e-8552125a6f69",
   "metadata": {},
   "source": [
    "## Q1. What is the difference between Ordinal Encoding and Label Encoding? Provide an example of when you might choose one over the other."
   ]
  },
  {
   "cell_type": "markdown",
   "id": "8d4cae89-529b-4bfe-ba6d-ea043829ba49",
   "metadata": {},
   "source": [
    "## \n",
    "Ordinal Encoding and Label Encoding are both techniques used to convert categorical data into numerical format, but they are used under different circumstances and have distinct characteristics.\n",
    "\n",
    "Label Encoding:\n",
    "\n",
    "Label Encoding is a simple technique where each unique category in a categorical variable is assigned a unique integer label. The labels are usually assigned in ascending order starting from 0 or 1. For example, if you have a categorical variable \"Color\" with values \"Red,\" \"Green,\" and \"Blue,\" Label Encoding would transform them into 0, 1, and 2, respectively."
   ]
  },
  {
   "cell_type": "code",
   "execution_count": 2,
   "id": "38f51d10-bec2-4f7b-9396-a368af1f42f1",
   "metadata": {},
   "outputs": [
    {
     "name": "stdout",
     "output_type": "stream",
     "text": [
      "[2 1 0 1 2]\n"
     ]
    }
   ],
   "source": [
    "from sklearn.preprocessing import LabelEncoder\n",
    "\n",
    "colors = [\"Red\", \"Green\", \"Blue\", \"Green\", \"Red\"]\n",
    "label_encoder = LabelEncoder()\n",
    "encoded_colors = label_encoder.fit_transform(colors)\n",
    "print(encoded_colors)"
   ]
  },
  {
   "cell_type": "markdown",
   "id": "dae95f13-afa7-45e9-803e-7747fee2c48b",
   "metadata": {},
   "source": [
    "##\n",
    "Ordinal Encoding:\n",
    "\n",
    "Ordinal Encoding is also used for converting categorical data into numerical form, but it considers the order or rank of the categories. It assigns integers to categories based on their ordinal relationship. For example, if you have a categorical variable \"Size\" with values \"Small,\" \"Medium,\" and \"Large,\" Ordinal Encoding may transform them into 0, 1, and 2, respectively, to preserve the order."
   ]
  },
  {
   "cell_type": "code",
   "execution_count": 3,
   "id": "94e4e04f-0590-460d-acfd-fffb5dd333c4",
   "metadata": {},
   "outputs": [
    {
     "name": "stdout",
     "output_type": "stream",
     "text": [
      "     Size  Size_encoded\n",
      "0  Medium             1\n",
      "1   Large             2\n",
      "2   Small             0\n",
      "3  Medium             1\n",
      "4   Large             2\n"
     ]
    }
   ],
   "source": [
    "import pandas as pd\n",
    "\n",
    "data = {\"Size\": [\"Medium\", \"Large\", \"Small\", \"Medium\", \"Large\"]}\n",
    "df = pd.DataFrame(data)\n",
    "\n",
    "size_mapping = {\n",
    "    \"Small\": 0,\n",
    "    \"Medium\": 1,\n",
    "    \"Large\": 2,\n",
    "}\n",
    "\n",
    "df[\"Size_encoded\"] = df[\"Size\"].map(size_mapping)\n",
    "print(df)"
   ]
  },
  {
   "cell_type": "markdown",
   "id": "90449d62-15ce-48d2-bd9a-f0f8f38d6ee1",
   "metadata": {},
   "source": [
    "## \n",
    "When to choose one over the other:\n",
    "\n",
    "Label Encoding is more suitable for nominal categorical variables, where there is no inherent order among the categories. For example, when encoding colors, it makes sense to use Label Encoding as there is no natural order between colors.\n",
    "\n",
    "Ordinal Encoding, on the other hand, is more appropriate when the categorical variable has an ordinal relationship, i.e., the categories have a meaningful order or rank. For example, when encoding sizes like \"Small,\" \"Medium,\" and \"Large,\" it's better to use Ordinal Encoding to preserve the order and capture the relative size differences.\n",
    "\n",
    "It's important to choose the encoding method wisely to avoid introducing unintended patterns or assumptions into the data, especially when working with machine learning models."
   ]
  },
  {
   "cell_type": "markdown",
   "id": "2c297c9d-e800-4f73-91a2-140f9cb2bad2",
   "metadata": {},
   "source": [
    "## Q2. Explain how Target Guided Ordinal Encoding works and provide an example of when you might use it in a machine learning project."
   ]
  },
  {
   "cell_type": "markdown",
   "id": "809f17f6-e0b7-4516-9197-7968346d60f9",
   "metadata": {},
   "source": [
    "##\n",
    "Target Guided Ordinal Encoding is a technique that involves encoding categorical variables based on their relationship with the target variable. It is often used in classification tasks to transform categorical features into ordinal values, considering the impact of each category on the target variable.\n",
    "\n",
    "Here's how Target Guided Ordinal Encoding works:\n",
    "\n",
    "Calculate the mean (or any other suitable statistical measure) of the target variable for each category in the categorical variable.\n",
    "\n",
    "Order the categories based on their impact on the target variable (e.g., by ascending or descending order of the means).\n",
    "\n",
    "Assign ordinal labels to the categories based on their ordered ranks."
   ]
  },
  {
   "cell_type": "markdown",
   "id": "c5800446-10cd-4753-8862-90b3be3ad1da",
   "metadata": {},
   "source": []
  },
  {
   "cell_type": "markdown",
   "id": "be0afa85-060e-4cb8-8ad6-b09533693794",
   "metadata": {},
   "source": [
    "## Q3. Define covariance and explain why it is important in statistical analysis. How is covariance calculated?"
   ]
  },
  {
   "cell_type": "markdown",
   "id": "ea8ad33d-70a6-4ce3-b339-bf10a85f2b1d",
   "metadata": {},
   "source": [
    "## \n"
   ]
  },
  {
   "cell_type": "markdown",
   "id": "05e5c48b-d435-49fa-9912-2cb39f068ad9",
   "metadata": {},
   "source": []
  },
  {
   "cell_type": "markdown",
   "id": "f519eef8-9e0d-44dd-887d-7bae000bd644",
   "metadata": {},
   "source": []
  },
  {
   "cell_type": "markdown",
   "id": "addb6e34-e354-47da-adff-5ba56faf2ae1",
   "metadata": {},
   "source": []
  }
 ],
 "metadata": {
  "kernelspec": {
   "display_name": "Python 3 (ipykernel)",
   "language": "python",
   "name": "python3"
  },
  "language_info": {
   "codemirror_mode": {
    "name": "ipython",
    "version": 3
   },
   "file_extension": ".py",
   "mimetype": "text/x-python",
   "name": "python",
   "nbconvert_exporter": "python",
   "pygments_lexer": "ipython3",
   "version": "3.10.8"
  }
 },
 "nbformat": 4,
 "nbformat_minor": 5
}
