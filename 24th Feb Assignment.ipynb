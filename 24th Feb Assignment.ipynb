{
 "cells": [
  {
   "cell_type": "markdown",
   "id": "4fd4f40f-5198-4ff5-a1ef-70ecaee67d2d",
   "metadata": {},
   "source": [
    "# Assignment"
   ]
  },
  {
   "cell_type": "markdown",
   "id": "c588a2cf-a2f3-43c6-9262-4f4d515b6574",
   "metadata": {},
   "source": [
    "## 1.List any five functions of the pandas library with execution."
   ]
  },
  {
   "cell_type": "markdown",
   "id": "22494ded-7523-47e5-a630-da5d207b40b3",
   "metadata": {},
   "source": [
    "###\n",
    "Here are five common functions of the pandas library with an example of their execution:\n",
    "\n",
    "1. read_csv(): This function is used to read CSV files and create a DataFrame."
   ]
  },
  {
   "cell_type": "code",
   "execution_count": null,
   "id": "4a4888af-e79a-4606-b37e-cf4166fa98f3",
   "metadata": {},
   "outputs": [],
   "source": [
    "import pandas as pd\n",
    "df = pd.read_csv(\"data.csv\")\n",
    "print(df)"
   ]
  },
  {
   "cell_type": "markdown",
   "id": "8efd54f5-4d51-4ef4-b484-6ebf9242e3a1",
   "metadata": {},
   "source": [
    "###\n",
    "2. head(): This function is used to show the first n rows of a DataFrame. By default, it shows the first five rows."
   ]
  },
  {
   "cell_type": "code",
   "execution_count": null,
   "id": "96cdd5b9-d061-4358-8ed4-564a1ace27cd",
   "metadata": {},
   "outputs": [],
   "source": [
    "import pandas as pd\n",
    "df = pd.read_csv(\"data.csv\")\n",
    "print(df.head())"
   ]
  },
  {
   "cell_type": "markdown",
   "id": "58d159ce-aa8f-4470-a06a-d928bfda4be7",
   "metadata": {},
   "source": [
    "###\n",
    "3. describe(): This function is used to generate descriptive statistics of a DataFrame. It provides the count, mean, standard deviation, minimum, and maximum values of each column."
   ]
  },
  {
   "cell_type": "code",
   "execution_count": null,
   "id": "c261c864-8422-44e0-b30c-e922732f9943",
   "metadata": {},
   "outputs": [],
   "source": [
    "import pandas as pd\n",
    "df = pd.read_csv(\"data.csv\")\n",
    "print(df.describe())"
   ]
  },
  {
   "cell_type": "markdown",
   "id": "43fbe84b-1a9c-4446-9fe6-a5c2ebe372a1",
   "metadata": {},
   "source": [
    "###\n",
    "4. groupby(): This function is used to group rows of a DataFrame based on one or more columns and apply an aggregation function to each group."
   ]
  },
  {
   "cell_type": "code",
   "execution_count": null,
   "id": "8938b43e-3d8c-4a94-90a2-b9fbe6ebfa69",
   "metadata": {},
   "outputs": [],
   "source": [
    "import pandas as pd\n",
    "df = pd.read_csv(\"data.csv\")\n",
    "grouped = df.groupby('city')\n",
    "print(grouped.mean())"
   ]
  },
  {
   "cell_type": "markdown",
   "id": "126c23b1-4947-48c2-a7c7-dcae1110d48d",
   "metadata": {},
   "source": [
    "###\n",
    "5. plot(): This function is used to create various types of plots using the data in a DataFrame."
   ]
  },
  {
   "cell_type": "code",
   "execution_count": null,
   "id": "3abf0d3a-6dbe-48c6-9688-61685c84a4a3",
   "metadata": {},
   "outputs": [],
   "source": [
    "import pandas as pd\n",
    "import matplotlib.pyplot as plt\n",
    "df = pd.read_csv(\"data.csv\")\n",
    "df.plot(x='year', y='sales', kind='line')\n",
    "plt.show()"
   ]
  },
  {
   "cell_type": "markdown",
   "id": "ec726b81-9464-408a-9ba9-afbc90d42aa2",
   "metadata": {},
   "source": [
    "## 2.Given a Pandas DataFrame df with columns 'A', 'B', and 'C', write a Python function to re-index the DataFrame with a new index that starts from 1 and increments by 2 for each row."
   ]
  },
  {
   "cell_type": "code",
   "execution_count": 3,
   "id": "24c28af9-364d-4114-9675-9b7c0ce1d37e",
   "metadata": {},
   "outputs": [
    {
     "name": "stdout",
     "output_type": "stream",
     "text": [
      "Before reindexing:\n",
      "    A  B  C\n",
      "0  1  4  7\n",
      "1  2  5  8\n",
      "2  3  6  9\n",
      "\n",
      "After reindexing:\n",
      "    A  B  C\n",
      "1  1  4  7\n",
      "3  2  5  8\n",
      "5  3  6  9\n"
     ]
    }
   ],
   "source": [
    "import pandas as pd\n",
    "\n",
    "def reindex_df(df):\n",
    "    \n",
    "    new_index = pd.RangeIndex(start=1, stop=len(df)*2, step=2)\n",
    "    \n",
    "    df.index = new_index\n",
    "    \n",
    "    return df\n",
    "\n",
    "df = pd.DataFrame({'A': [1, 2, 3], 'B': [4, 5, 6], 'C': [7, 8, 9]})\n",
    "\n",
    "print(\"Before reindexing:\\n\", df)\n",
    "\n",
    "df = reindex_df(df)\n",
    "\n",
    "print(\"\\nAfter reindexing:\\n\", df)"
   ]
  },
  {
   "cell_type": "markdown",
   "id": "ae715a76-c2c7-4250-81ff-6efed2ce0590",
   "metadata": {},
   "source": [
    "### 3.You have a Pandas DataFrame df with a column named 'Values'. Write a Python function that iterates over the DataFrame and calculates the sum of the first three values in the 'Values' column. The function should print the sum to the console.\n",
    "    For example, if the 'Values' column of df contains the values [10, 20, 30, 40, 50], your function should calculate and print the sum of the first three values, which is 60."
   ]
  },
  {
   "cell_type": "code",
   "execution_count": 4,
   "id": "fb73a8cb-c59b-4925-bfef-d03521821d88",
   "metadata": {},
   "outputs": [
    {
     "name": "stdout",
     "output_type": "stream",
     "text": [
      "DataFrame:\n",
      "    Values\n",
      "0      10\n",
      "1      20\n",
      "2      30\n",
      "3      40\n",
      "4      50\n",
      "The sum of the first three values in the 'Values' column is: 60\n"
     ]
    }
   ],
   "source": [
    "import pandas as pd\n",
    "\n",
    "def sum_first_three_values(df):\n",
    "    \n",
    "    first_three_values = df['Values'][:3]\n",
    "    \n",
    "    sum_first_three = sum(first_three_values)\n",
    "    \n",
    "    print(\"The sum of the first three values in the 'Values' column is:\", sum_first_three)\n",
    "    \n",
    "df = pd.DataFrame({'Values': [10, 20, 30, 40, 50]})\n",
    "\n",
    "print(\"DataFrame:\\n\", df)\n",
    "\n",
    "sum_first_three_values(df)"
   ]
  },
  {
   "cell_type": "markdown",
   "id": "9802487a-4615-41d1-835f-4d0994d4b8e7",
   "metadata": {},
   "source": [
    "### 4.Given a Pandas DataFrame df with a column 'Text', write a Python function to create a new column 'Word_Count' that contains the number of words in each row of the 'Text' column."
   ]
  },
  {
   "cell_type": "code",
   "execution_count": 5,
   "id": "20b5b383-588d-43da-9bfc-ce3e5d128386",
   "metadata": {},
   "outputs": [
    {
     "name": "stdout",
     "output_type": "stream",
     "text": [
      "Before adding the 'Word_Count' column:\n",
      "                            Text\n",
      "0   This is the first sentence.\n",
      "1  This is the second sentence.\n",
      "2   This is the third sentence.\n",
      "\n",
      "After adding the 'Word_Count' column:\n",
      "                            Text  Word_Count\n",
      "0   This is the first sentence.           5\n",
      "1  This is the second sentence.           5\n",
      "2   This is the third sentence.           5\n"
     ]
    }
   ],
   "source": [
    "import pandas as pd\n",
    "\n",
    "def add_word_count_column(df):\n",
    "    \n",
    "    words_list = df['Text'].str.split()\n",
    "    \n",
    "    df['Word_Count'] = words_list.apply(len)\n",
    "    \n",
    "    return df\n",
    "\n",
    "df = pd.DataFrame({'Text': ['This is the first sentence.', 'This is the second sentence.', 'This is the third sentence.']})\n",
    "\n",
    "print(\"Before adding the 'Word_Count' column:\\n\", df)\n",
    "\n",
    "df = add_word_count_column(df)\n",
    "\n",
    "print(\"\\nAfter adding the 'Word_Count' column:\\n\", df)"
   ]
  },
  {
   "cell_type": "markdown",
   "id": "033bd710-9f02-456c-bf9c-e988c04574cf",
   "metadata": {},
   "source": [
    "# 5.How are DataFrame.size() and DataFrame.shape() different?"
   ]
  },
  {
   "cell_type": "markdown",
   "id": "484239c1-051f-4947-9943-b2548cbed5c8",
   "metadata": {},
   "source": [
    "###\n",
    "Both DataFrame.size and DataFrame.shape are attributes in Pandas that provide information about the dimensions of a DataFrame, but they are different in what they represent.\n",
    "\n",
    "DataFrame.size returns the total number of elements in the DataFrame, which is equal to the product of the number of rows and the number of columns. It is equivalent to calling DataFrame.shape[0] * DataFrame.shape[1]. The result is an integer value.\n",
    "\n",
    "DataFrame.shape returns a tuple containing the number of rows and the number of columns in the DataFrame, respectively. The result is a tuple of integers."
   ]
  },
  {
   "cell_type": "code",
   "execution_count": 6,
   "id": "310e87b1-d153-49f6-934c-f374df37ca56",
   "metadata": {},
   "outputs": [
    {
     "name": "stdout",
     "output_type": "stream",
     "text": [
      "   A  B\n",
      "0  1  4\n",
      "1  2  5\n",
      "2  3  6\n",
      "Size of DataFrame: 6\n",
      "Shape of DataFrame: (3, 2)\n"
     ]
    }
   ],
   "source": [
    "import pandas as pd\n",
    "\n",
    "df = pd.DataFrame({'A': [1, 2, 3], 'B': [4, 5, 6]})\n",
    "print(df)\n",
    "\n",
    "print(\"Size of DataFrame:\", df.size)\n",
    "print(\"Shape of DataFrame:\", df.shape)"
   ]
  },
  {
   "cell_type": "markdown",
   "id": "b0dc3709-06d9-4a55-a63a-e7f75c473ccb",
   "metadata": {},
   "source": [
    "## 6.Which function of pandas do we use to read an excel file?"
   ]
  },
  {
   "cell_type": "code",
   "execution_count": null,
   "id": "64858543-1c2a-4b57-8add-6d402ee7dffc",
   "metadata": {},
   "outputs": [],
   "source": [
    "import pandas as pd\n",
    "\n",
    "# read the Excel file\n",
    "df = pd.read_excel('file.xlsx')\n",
    "\n",
    "# print the DataFrame\n",
    "print(df)"
   ]
  },
  {
   "cell_type": "markdown",
   "id": "c3c0257a-6a2a-438a-b1ae-62442228b5fa",
   "metadata": {},
   "source": [
    "###\n",
    "In this example, we read the Excel file named 'file.xlsx' using the read_excel() function and assigned it to the variable df. We can then manipulate and analyze the data in the df DataFrame using Pandas functions."
   ]
  },
  {
   "cell_type": "markdown",
   "id": "afc603e8-429d-4316-89f2-a7d241b6454e",
   "metadata": {},
   "source": [
    "### 7.You have a Pandas DataFrame df that contains a column named 'Email' that contains email addresses in the format 'username@domain.com'. Write a Python function that creates a new column 'Username' in df that contains only the username part of each email address.\n",
    "\n",
    "     The username is the part of the email address that appears before the '@' symbol. For example, if the email address is 'john.doe@example.com', the 'Username' column should contain 'john.doe'. Your function should extract the username from each email address and store it in the new 'Username' column."
   ]
  },
  {
   "cell_type": "code",
   "execution_count": 16,
   "id": "af84a3c0-a37e-493f-83cd-fb9019877fb4",
   "metadata": {},
   "outputs": [
    {
     "name": "stdout",
     "output_type": "stream",
     "text": [
      "                  Email  Username\n",
      "0  john.doe@example.com  john.doe\n"
     ]
    }
   ],
   "source": [
    "import pandas as pd\n",
    "\n",
    "df = pd.DataFrame({'Email': ['john.doe@example.com']})\n",
    "\n",
    "def extract_username(email):\n",
    "    return email.split('@')[0]\n",
    "\n",
    "df['Username'] = df['Email'].apply(extract_username)\n",
    "\n",
    "print(df)"
   ]
  },
  {
   "cell_type": "markdown",
   "id": "f1c78620-11eb-4401-b434-4f91171d0051",
   "metadata": {},
   "source": [
    "## 8.You have a Pandas DataFrame df with columns 'A', 'B', and 'C'. Write a Python function that selects all rows where the value in column 'A' is greater than 5 and the value in column 'B' is less than 10. The function should return a new DataFrame that contains only the selected rows.\n",
    "\n",
    "     For example, if df contains the following values:\n",
    "          A B C\n",
    "        0 3 5 1\n",
    "        1 8 2 7\n",
    "        2 6 9 4\n",
    "        3 2 3 5\n",
    "        4 9 1 2"
   ]
  },
  {
   "cell_type": "code",
   "execution_count": 26,
   "id": "16d3d15e-ef9a-40fc-8c40-4e2b01cddd2e",
   "metadata": {},
   "outputs": [
    {
     "name": "stdout",
     "output_type": "stream",
     "text": [
      "   A  B  C\n",
      "1  8  2  7\n",
      "2  6  9  4\n",
      "4  9  1  2\n"
     ]
    }
   ],
   "source": [
    "import pandas as pd\n",
    "\n",
    "df = pd.DataFrame({'A': [3, 8, 6, 2, 9], 'B': [5, 2, 9, 3, 1], 'C': [1, 7, 4, 5, 2]})\n",
    "\n",
    "def select_rows(df):\n",
    "    return df[(df['A'] > 5) & (df['B'] < 10)]\n",
    "\n",
    "selected_rows = select_rows(df)\n",
    "print(selected_rows)"
   ]
  },
  {
   "cell_type": "code",
   "execution_count": null,
   "id": "3379d52c-3542-4be3-96c8-c1328afe4d5a",
   "metadata": {},
   "outputs": [],
   "source": []
  }
 ],
 "metadata": {
  "kernelspec": {
   "display_name": "Python 3 (ipykernel)",
   "language": "python",
   "name": "python3"
  },
  "language_info": {
   "codemirror_mode": {
    "name": "ipython",
    "version": 3
   },
   "file_extension": ".py",
   "mimetype": "text/x-python",
   "name": "python",
   "nbconvert_exporter": "python",
   "pygments_lexer": "ipython3",
   "version": "3.10.8"
  }
 },
 "nbformat": 4,
 "nbformat_minor": 5
}
